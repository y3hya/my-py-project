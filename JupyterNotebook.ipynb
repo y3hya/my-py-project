{
 "cells": [
  {
   "cell_type": "code",
   "execution_count": 3,
   "metadata": {},
   "outputs": [],
   "source": [
    "from tools import tools\n",
    "from sourcingMonthandPickle import Month\n",
    "import numpy as np\n",
    "import pandas as pd\n",
    "\n",
    "df = tools.openPickle(\n",
    "    r'C:/Dropbox/OpSupport Team Folder/Cell Shop/Commission/AT&T Reports/' + Month + '/Raw/detail.p')\n"
   ]
  },
  {
   "cell_type": "code",
   "execution_count": 4,
   "metadata": {},
   "outputs": [
    {
     "name": "stderr",
     "output_type": "stream",
     "text": [
      "C:\\Users\\TMP-YA~1\\AppData\\Local\\Temp/ipykernel_4956/3812584645.py:3: SettingWithCopyWarning: \n",
      "A value is trying to be set on a copy of a slice from a DataFrame.\n",
      "Try using .loc[row_indexer,col_indexer] = value instead\n",
      "\n",
      "See the caveats in the documentation: https://pandas.pydata.org/pandas-docs/stable/user_guide/indexing.html#returning-a-view-versus-a-copy\n",
      "  btsAct['Activity Type'] = pd.cut(\n"
     ]
    }
   ],
   "source": [
    "btsAct = df[df['Comments'].isnull()]\n",
    "# Added Activity Type column\n",
    "btsAct['Activity Type'] = pd.cut(\n",
    "    btsAct.Value, bins=[-np.inf, 0, np.inf], labels=['DEACT', 'ACT'])  # -- Try 1\n",
    "btsAct = btsAct[(\n",
    "    (btsAct['Transaction Type'] == 'CONNECTED DEVICE') |\n",
    "    (btsAct['Transaction Type'] == 'FIRSTNET AT&T DEVICE') |\n",
    "    (btsAct['Transaction Type'] == 'TABLET ACTIVATION') |\n",
    "    (btsAct['Transaction Type'] == 'WEARABLE ACTIVATION') |\n",
    "    (btsAct['Transaction Type'] == None) |\n",
    "    (btsAct['Transaction Type'] == 'NO-CONTRACT ACTIVATION') |\n",
    "    (btsAct['Transaction Type'] == 'FIRSTNET OTHER DEVICE') |\n",
    "    (btsAct['Transaction Type'] == 'FIRSTNET ACTIVATION')) &\n",
    "\n",
    "    ((btsAct['Contract Name'] == 'DIGITAL_INCENTIVE') |\n",
    "     (btsAct['Contract Name'] == 'WIRELESS_ACTS_UPGDS')) &\n",
    "\n",
    "    ((btsAct['Adj Desc2'] == None) |\n",
    "     (btsAct['Adj Desc2'] == 'WEARABLE')) &\n",
    "\n",
    "    ((btsAct['Pay Method'] == 'ACTIVATIONS_DATA DEVICES_BYOD') |\n",
    "     (btsAct['Pay Method'] == 'ACTIVATIONS_TABLETS_WEARABLES')) &\n",
    "\n",
    "    (btsAct['Month'] != '')\n",
    "]\n",
    "# ________________________________________________________________________________________\n",
    "btsAct['Type'] = 'Data|Act' "
   ]
  },
  {
   "cell_type": "code",
   "execution_count": null,
   "metadata": {},
   "outputs": [],
   "source": []
  }
 ],
 "metadata": {
  "interpreter": {
   "hash": "52fed2b4f7cecb5eaac687a3fc1c0cd40f4e5bb71153cd483c95a5bb46da953f"
  },
  "kernelspec": {
   "display_name": "Python 3.9.7 64-bit (windows store)",
   "name": "python3"
  },
  "language_info": {
   "codemirror_mode": {
    "name": "ipython",
    "version": 3
   },
   "file_extension": ".py",
   "mimetype": "text/x-python",
   "name": "python",
   "nbconvert_exporter": "python",
   "pygments_lexer": "ipython3",
   "version": "3.9.7"
  },
  "orig_nbformat": 4
 },
 "nbformat": 4,
 "nbformat_minor": 2
}
